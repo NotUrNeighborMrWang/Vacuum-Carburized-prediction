{
 "cells": [
  {
   "cell_type": "code",
   "execution_count": null,
   "id": "221a9740-5fa2-4230-a1c6-e9f1ef342ea3",
   "metadata": {},
   "outputs": [
    {
     "name": "stdout",
     "output_type": "stream",
     "text": [
      "device: cuda\n"
     ]
    }
   ],
   "source": [
    "import torch\n",
    "import torch.nn as nn\n",
    "import torch.optim as optim\n",
    "from torch.utils.data import Dataset, DataLoader\n",
    "from utils.process import Processor\n",
    "from utils.models import *\n",
    "import torchvision.utils as vutils\n",
    "import numpy as np\n",
    "import torchvision.models as models\n",
    "import random\n",
    "\n",
    "import datetime\n",
    "from PIL import Image\n",
    "import json\n",
    "\n",
    "device = torch.device(\"cuda\" if torch.cuda.is_available() else \"cpu\")\n",
    "\n",
    "print(\"device:\", device)"
   ]
  },
  {
   "cell_type": "code",
   "execution_count": null,
   "id": "92ebd7a3-bd28-4cea-9f26-59ac04594313",
   "metadata": {},
   "outputs": [],
   "source": [
    "\n",
    "class SimpleMLP(nn.Module):\n",
    "    def __init__(self, input_size, hidden_size, output_size):\n",
    "        super(SimpleMLP, self).__init__()\n",
    "        self.fc1 = nn.Linear(input_size, hidden_size)\n",
    "        self.relu = nn.ReLU()\n",
    "        self.fc2 = nn.Linear(hidden_size, output_size)\n",
    "        \n",
    "    def forward(self, x):\n",
    "        x = x.view(x.size(0), -1) \n",
    "        x = self.fc1(x)\n",
    "        x = self.relu(x)\n",
    "        x = self.fc2(x)\n",
    "        return x\n",
    "\n",
    "\n",
    "class MetallographicDataset(Dataset):\n",
    "    def __init__(self, data):\n",
    "        self.data = data\n",
    "    \n",
    "    def __len__(self):\n",
    "        return len(self.data)\n",
    "    \n",
    "    def __getitem__(self, idx):\n",
    "        sample = self.data[idx]\n",
    "        image_path = sample['image']\n",
    "        grade_and_process = torch.tensor([float(g) for g in sample['grade']] + [float(p) for p in sample['process']])\n",
    "\n",
    "        inputs = {\n",
    "            'image_path': image_path,\n",
    "            'grade_and_process': grade_and_process,\n",
    "        }\n",
    "\n",
    "        labels = torch.tensor(sample['friction_list'], dtype=torch.float)\n",
    "\n",
    "        return {**inputs, \"labels\": labels}\n"
   ]
  },
  {
   "attachments": {},
   "cell_type": "markdown",
   "id": "b56cde36",
   "metadata": {},
   "source": [
    "## 随机抽取数量设置"
   ]
  },
  {
   "cell_type": "code",
   "execution_count": null,
   "id": "0da29cd1-6fae-4e07-8a46-e49cde7d729b",
   "metadata": {},
   "outputs": [
    {
     "name": "stdout",
     "output_type": "stream",
     "text": [
      "100\n"
     ]
    }
   ],
   "source": [
    "\n",
    "model = SimpleMLP(input_size=300 * 768, hidden_size=1024, output_size=570).to(device)\n",
    "model.load_state_dict(torch.load('../../models/multi+mlp_friction/imf1.pth'))\n",
    "model.eval()\n",
    "\n",
    "model_path = \"../../models/facebook-multi-full\"\n",
    "processor = FlavaProcessor.from_pretrained(model_path)\n",
    "multi_model = FlavaModel.from_pretrained(model_path).to(device)\n",
    "\n",
    "data_path = \"../../datasets/data20240924_v1.2_train&test/test/data_friction_VMD.json\"\n",
    "with open(data_path, 'r') as f:\n",
    "    data = json.load(f)\n",
    "\n",
    "test_dataset = MetallographicDataset(data)\n",
    "num_test = 100\n",
    "random_indices = random.sample(range(len(test_dataset)), num_test)\n",
    "test_subset = torch.utils.data.Subset(test_dataset, random_indices)\n",
    "test_loader = DataLoader(test_subset, batch_size=1, shuffle=False)\n",
    "\n",
    "print(len(test_loader))"
   ]
  },
  {
   "cell_type": "code",
   "execution_count": null,
   "id": "87b2d8e0",
   "metadata": {},
   "outputs": [],
   "source": [
    "import matplotlib.pyplot as plt\n",
    "\n",
    "def draw_pic(predictions, labels):\n",
    "\n",
    "    x = np.arange(1, len(predictions) + 1)\n",
    "\n",
    "    plt.figure(figsize=(10, 6))\n",
    "    plt.plot(x, predictions, label='Predictions', color='blue')\n",
    "    plt.plot(x, labels, label='Labels', color='orange')\n",
    "\n",
    "    plt.legend()\n",
    "\n",
    "    plt.title('Predictions vs. Labels')\n",
    "    plt.xlabel('Index')\n",
    "    plt.ylabel('Value')\n",
    "\n",
    "    plt.grid(True)\n",
    "    plt.show()"
   ]
  },
  {
   "cell_type": "code",
   "execution_count": null,
   "id": "f9055a06-2d2d-49cd-ac15-8703fb75e57a",
   "metadata": {},
   "outputs": [
    {
     "name": "stderr",
     "output_type": "stream",
     "text": [
      "/home/ub22/anaconda3/envs/llm_demo/lib/python3.11/site-packages/transformers/modeling_utils.py:1113: FutureWarning: The `device` argument is deprecated and will be removed in v5 of Transformers.\n",
      "  warnings.warn(\n"
     ]
    },
    {
     "name": "stdout",
     "output_type": "stream",
     "text": [
      "MAE:  0.026819800958037376\n"
     ]
    },
    {
     "name": "stderr",
     "output_type": "stream",
     "text": [
      "/home/ub22/anaconda3/envs/llm_demo/lib/python3.11/site-packages/transformers/modeling_utils.py:1113: FutureWarning: The `device` argument is deprecated and will be removed in v5 of Transformers.\n",
      "  warnings.warn(\n"
     ]
    },
    {
     "name": "stdout",
     "output_type": "stream",
     "text": [
      "MAE:  0.02458532340824604\n",
      "MAE:  0.025761008262634277\n"
     ]
    },
    {
     "name": "stderr",
     "output_type": "stream",
     "text": [
      "/home/ub22/anaconda3/envs/llm_demo/lib/python3.11/site-packages/transformers/modeling_utils.py:1113: FutureWarning: The `device` argument is deprecated and will be removed in v5 of Transformers.\n",
      "  warnings.warn(\n",
      "/home/ub22/anaconda3/envs/llm_demo/lib/python3.11/site-packages/transformers/modeling_utils.py:1113: FutureWarning: The `device` argument is deprecated and will be removed in v5 of Transformers.\n",
      "  warnings.warn(\n"
     ]
    },
    {
     "name": "stdout",
     "output_type": "stream",
     "text": [
      "MAE:  0.028928272426128387\n"
     ]
    },
    {
     "name": "stderr",
     "output_type": "stream",
     "text": [
      "/home/ub22/anaconda3/envs/llm_demo/lib/python3.11/site-packages/transformers/modeling_utils.py:1113: FutureWarning: The `device` argument is deprecated and will be removed in v5 of Transformers.\n",
      "  warnings.warn(\n"
     ]
    },
    {
     "name": "stdout",
     "output_type": "stream",
     "text": [
      "MAE:  0.025997821241617203\n"
     ]
    },
    {
     "name": "stderr",
     "output_type": "stream",
     "text": [
      "/home/ub22/anaconda3/envs/llm_demo/lib/python3.11/site-packages/transformers/modeling_utils.py:1113: FutureWarning: The `device` argument is deprecated and will be removed in v5 of Transformers.\n",
      "  warnings.warn(\n"
     ]
    },
    {
     "name": "stdout",
     "output_type": "stream",
     "text": [
      "MAE:  0.024867620319128036\n"
     ]
    },
    {
     "name": "stderr",
     "output_type": "stream",
     "text": [
      "/home/ub22/anaconda3/envs/llm_demo/lib/python3.11/site-packages/transformers/modeling_utils.py:1113: FutureWarning: The `device` argument is deprecated and will be removed in v5 of Transformers.\n",
      "  warnings.warn(\n"
     ]
    }
   ],
   "source": [
    "import pandas as pd\n",
    "\n",
    "df = pd.DataFrame()\n",
    "\n",
    "total_samples = 0\n",
    "correct_predictions = 0\n",
    "total_samples_mae = 0\n",
    "total_mae = 0.0\n",
    "ss_res = 0.0\n",
    "ss_tot = 0.0\n",
    "all_labels = []\n",
    "\n",
    "predictions = []\n",
    "simil_total = []\n",
    "with torch.no_grad():\n",
    "    for batch in test_loader:\n",
    "        image_paths = batch['image_path']\n",
    "        text_features = batch['grade_and_process'].to(device)\n",
    "\n",
    "        images = [Image.open(image_path).convert(\"RGB\") for image_path in image_paths]\n",
    "        multi_inputs = processor(text=[str(text) for text in text_features],\n",
    "                                 images=images,\n",
    "                                 return_tensors=\"pt\",\n",
    "                                 padding=True).to(device)\n",
    "\n",
    "        outputs = multi_model(**multi_inputs)\n",
    "        multimodal_embeddings = outputs.multimodal_embeddings.to(device)\n",
    "        desired_length = 300\n",
    "        if multimodal_embeddings.size(1) > desired_length:\n",
    "            multimodal_embeddings = multimodal_embeddings[:, :desired_length, :]\n",
    "        elif multimodal_embeddings.size(1) < desired_length:\n",
    "            padding_size = desired_length - multimodal_embeddings.size(1)\n",
    "            padding = torch.zeros(multimodal_embeddings.size(0), padding_size, multimodal_embeddings.size(2)).to(device)\n",
    "            multimodal_embeddings = torch.cat((multimodal_embeddings, padding), dim=1)\n",
    "\n",
    "        predictions = model(multimodal_embeddings)\n",
    "        labels = batch['labels'].to(device)\n",
    "        simil = 0.1\n",
    "\n",
    "        if predictions.size(1) != labels.size(1):\n",
    "            min_size = min(predictions.size(1), labels.size(1))\n",
    "            predictions = predictions[:, :min_size]\n",
    "            labels = labels[:, :min_size]\n",
    "\n",
    "        correct = torch.all(torch.abs(predictions - labels) <= simil, dim=1)\n",
    "        correct_predictions += correct.sum().item()\n",
    "        total_samples += len(correct)\n",
    "\n",
    "        mae = torch.abs(predictions - labels).mean().item()\n",
    "        total_mae += mae\n",
    "        total_samples_mae += 1\n",
    "\n",
    "        ss_res += torch.sum((predictions - labels) ** 2).item()\n",
    "        all_ = labels.cpu().numpy().flatten().tolist()\n",
    "        all_labels.extend(all_)\n",
    "        \n",
    "        if correct:\n",
    "            print(\"MAE: \", mae)\n",
    "            predictions = predictions.cpu().numpy()\n",
    "            labels = labels.cpu().numpy()\n",
    "            df[f'Prediction_{total_samples}'] = predictions[0]\n",
    "            df[f'Label_{total_samples}'] = labels[0]\n",
    "        \n",
    "        df.to_csv(\"predictions_labels_by_column.csv\", index=False)"
   ]
  },
  {
   "attachments": {},
   "cell_type": "markdown",
   "id": "9fbc16d6",
   "metadata": {},
   "source": [
    "## 结果展示\n"
   ]
  },
  {
   "cell_type": "code",
   "execution_count": null,
   "id": "a02ae57c",
   "metadata": {},
   "outputs": [
    {
     "name": "stdout",
     "output_type": "stream",
     "text": [
      "Accuracy: 6.00%\n",
      "Mean Absolute Error (MAE): 0.0400\n",
      "R^2: 0.7387\n"
     ]
    }
   ],
   "source": [
    "\n",
    "accuracy = correct_predictions / total_samples * 100\n",
    "print(f\"Accuracy: {accuracy:.2f}%\")\n",
    "\n",
    "average_mae = total_mae / total_samples_mae\n",
    "print(f\"Mean Absolute Error (MAE): {average_mae:.4f}\")\n",
    "\n",
    "all_labels = np.array(all_labels)\n",
    "mean_label = all_labels.mean()\n",
    "ss_tot = np.sum((all_labels - mean_label) ** 2)\n",
    "r2 = 1 - (ss_res / ss_tot)\n",
    "print(f\"R^2: {r2:.4f}\")\n"
   ]
  }
 ],
 "metadata": {
  "kernelspec": {
   "display_name": "llm_demo",
   "language": "python",
   "name": "python3"
  },
  "language_info": {
   "codemirror_mode": {
    "name": "ipython",
    "version": 3
   },
   "file_extension": ".py",
   "mimetype": "text/x-python",
   "name": "python",
   "nbconvert_exporter": "python",
   "pygments_lexer": "ipython3",
   "version": "3.11.11"
  }
 },
 "nbformat": 4,
 "nbformat_minor": 5
}
